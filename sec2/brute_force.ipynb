{
 "cells": [
  {
   "cell_type": "code",
   "execution_count": 1,
   "metadata": {},
   "outputs": [],
   "source": [
    "import itertools\n",
    "\n",
    "def calDisP(N, M):\n",
    "    # calculate distribution of P\n",
    "    \n",
    "    starting = [] # starting permutation\n",
    "    for iM in range(M):\n",
    "        starting += [iM] * (N // M)\n",
    "        \n",
    "    disP = [0] * N # distribution of the points P\n",
    "    perm = itertools.permutations(starting) # iter all permutations\n",
    "    for cur in perm:\n",
    "        P = sum([1 if cur[i] == cur[i-1] else 0 for i in range(1,len(cur))]) # calculate P\n",
    "        disP[P] += 1 # calculate distribution\n",
    "    \n",
    "    return disP"
   ]
  },
  {
   "cell_type": "code",
   "execution_count": null,
   "metadata": {},
   "outputs": [],
   "source": [
    "calDisP(16,4)"
   ]
  },
  {
   "cell_type": "code",
   "execution_count": null,
   "metadata": {},
   "outputs": [],
   "source": []
  }
 ],
 "metadata": {
  "kernelspec": {
   "display_name": "Python 3",
   "language": "python",
   "name": "python3"
  },
  "language_info": {
   "codemirror_mode": {
    "name": "ipython",
    "version": 3
   },
   "file_extension": ".py",
   "mimetype": "text/x-python",
   "name": "python",
   "nbconvert_exporter": "python",
   "pygments_lexer": "ipython3",
   "version": "3.6.0"
  },
  "toc": {
   "base_numbering": 1,
   "nav_menu": {},
   "number_sections": true,
   "sideBar": true,
   "skip_h1_title": false,
   "title_cell": "Table of Contents",
   "title_sidebar": "Contents",
   "toc_cell": false,
   "toc_position": {},
   "toc_section_display": true,
   "toc_window_display": false
  }
 },
 "nbformat": 4,
 "nbformat_minor": 2
}
