{
 "cells": [
  {
   "cell_type": "code",
   "execution_count": 1,
   "metadata": {},
   "outputs": [],
   "source": [
    "#\n",
    "# Read files\n",
    "#\n",
    "\n",
    "import pandas as pd\n",
    "import numpy as np\n",
    "import glob\n",
    "\n",
    "import matplotlib\n",
    "import matplotlib.pyplot as plt\n",
    "%matplotlib inline\n",
    "\n",
    "from jupyterthemes import jtplot\n",
    "jtplot.style(theme='grade3')"
   ]
  },
  {
   "cell_type": "code",
   "execution_count": 2,
   "metadata": {},
   "outputs": [
    {
     "name": "stderr",
     "output_type": "stream",
     "text": [
      "/usr/local/Cellar/python3/3.6.0/Frameworks/Python.framework/Versions/3.6/lib/python3.6/site-packages/IPython/core/interactiveshell.py:2728: DtypeWarning: Columns (0) have mixed types. Specify dtype option on import or set low_memory=False.\n",
      "  interactivity=interactivity, compiler=compiler, result=result)\n"
     ]
    },
    {
     "name": "stdout",
     "output_type": "stream",
     "text": [
      "<class 'pandas.core.frame.DataFrame'>\n",
      "Int64Index: 3542048 entries, 0 to 104104\n",
      "Data columns (total 9 columns):\n",
      "BIOGUIDE_ID    object\n",
      "OFFICE         object\n",
      "CATEGORY       object\n",
      "START DATE     object\n",
      "END DATE       object\n",
      "PURPOSE        object\n",
      "PAYEE          object\n",
      "YEAR           object\n",
      "AMOUNT         float64\n",
      "dtypes: float64(1), object(8)\n",
      "memory usage: 270.2+ MB\n"
     ]
    }
   ],
   "source": [
    "allFiles = glob.glob(\"../data_test/*.csv\")\n",
    "df = pd.DataFrame()\n",
    "list_ = []\n",
    "for file_ in allFiles:\n",
    "    dfTmp = pd.read_csv(file_,index_col=None, header=0, encoding=\"ISO-8859-1\", thousands=',')\n",
    "    dfTmp = dfTmp[['BIOGUIDE_ID', 'OFFICE', 'CATEGORY', 'START DATE', 'END DATE', 'PURPOSE', 'PAYEE', 'YEAR', 'AMOUNT']]\n",
    "    list_.append(dfTmp)\n",
    "df = pd.concat(list_)\n",
    "df.info()"
   ]
  },
  {
   "cell_type": "code",
   "execution_count": 3,
   "metadata": {},
   "outputs": [
    {
     "name": "stdout",
     "output_type": "stream",
     "text": [
      "Question 1: 1.366070379e+10\n"
     ]
    }
   ],
   "source": [
    "#\n",
    "# Question 1\n",
    "#\n",
    "print(\"Question 1: {:.10}\".format(df['AMOUNT'].sum()))"
   ]
  },
  {
   "cell_type": "code",
   "execution_count": 4,
   "metadata": {},
   "outputs": [
    {
     "name": "stdout",
     "output_type": "stream",
     "text": [
      "Question 2: 61.88080826\n"
     ]
    }
   ],
   "source": [
    "#\n",
    "# Question 2\n",
    "#\n",
    "df['START DATE'] = pd.to_datetime(df['START DATE'], format='%m/%d/%y', errors='coerce')\n",
    "df['END DATE'] = pd.to_datetime(df['END DATE'], format='%m/%d/%y', errors='coerce')\n",
    "df['COVERAGE PERIOD'] = (df['END DATE'] - df['START DATE'])\n",
    "print(\"Question 2: {:.10}\".format(df[df['AMOUNT']>0]['COVERAGE PERIOD'].std().total_seconds()/24/60/60))"
   ]
  },
  {
   "cell_type": "code",
   "execution_count": 5,
   "metadata": {},
   "outputs": [
    {
     "name": "stdout",
     "output_type": "stream",
     "text": [
      "Question 3: 1.209984621e+09\n"
     ]
    }
   ],
   "source": [
    "#\n",
    "# Question 3\n",
    "#\n",
    "years = range(2010,2017)\n",
    "total = 0\n",
    "for year in years:\n",
    "    total += df[(df['START DATE'].dt.year==year) & (df['AMOUNT']>0)]['AMOUNT'].sum()\n",
    "print(\"Question 3: {:.10}\".format(total/len(years)))"
   ]
  },
  {
   "cell_type": "code",
   "execution_count": 6,
   "metadata": {},
   "outputs": [
    {
     "name": "stdout",
     "output_type": "stream",
     "text": [
      "Question 4: 0.05687370793\n"
     ]
    }
   ],
   "source": [
    "#\n",
    "# Question 4\n",
    "#\n",
    "top_office = df[df['START DATE'].dt.year==2016][['OFFICE','AMOUNT']].groupby(['OFFICE'], as_index=False).sum().sort_values(by='AMOUNT', ascending=False).iloc[0]['OFFICE']\n",
    "part_total = df[(df['START DATE'].dt.year==2016) & (df['OFFICE']==top_office)][['PURPOSE','AMOUNT']].groupby(['PURPOSE'], as_index=False).sum().sort_values(by='AMOUNT', ascending=False).iloc[0]['AMOUNT']\n",
    "total = df[df['START DATE'].dt.year==2016]['AMOUNT'].sum()\n",
    "print(\"Question 4: {:.10}\".format(part_total/total))"
   ]
  },
  {
   "cell_type": "code",
   "execution_count": 7,
   "metadata": {},
   "outputs": [
    {
     "name": "stderr",
     "output_type": "stream",
     "text": [
      "/usr/local/Cellar/python3/3.6.0/Frameworks/Python.framework/Versions/3.6/lib/python3.6/site-packages/ipykernel_launcher.py:4: FutureWarning: currently extract(expand=None) means expand=False (return Index/Series/DataFrame) but in a future version of pandas this will be changed to expand=True (return DataFrame)\n",
      "  after removing the cwd from sys.path.\n"
     ]
    },
    {
     "name": "stdout",
     "output_type": "stream",
     "text": [
      "Question 5: 73816.42596\n"
     ]
    }
   ],
   "source": [
    "#\n",
    "# Question 5\n",
    "#\n",
    "df['YEAR'] = df['YEAR'].str.extract('(\\d\\d\\d\\d)').astype('float')\n",
    "df['BIOGUIDE_ID'].fillna('UNKNOWN', inplace=True)\n",
    "df_OFFICE_PAYEE = df[(df['CATEGORY']=='PERSONNEL COMPENSATION') & (df['YEAR']==2016)][['BIOGUIDE_ID', 'PAYEE', 'AMOUNT']].groupby(['BIOGUIDE_ID','PAYEE'], as_index=False).sum()\n",
    "print(\"Question 5: {:.10}\".format(df_OFFICE_PAYEE[['BIOGUIDE_ID', 'AMOUNT']].groupby(['BIOGUIDE_ID'], as_index=False).mean().sort_values(by='AMOUNT', ascending=False).iloc[0]['AMOUNT']))"
   ]
  },
  {
   "cell_type": "code",
   "execution_count": 8,
   "metadata": {
    "scrolled": false
   },
   "outputs": [
    {
     "data": {
      "text/plain": [
       "'\\nimport json\\nimport requests\\n\\ndictServeDate = {}\\nfor member in df[\\'BIOGUIDE_ID\\'].unique():\\n    url = \"https://api.propublica.org/congress/v1/members/{}.json\".format(member)\\n    response = requests.get(url, headers={\\'X-API-Key\\': \\'X39vBTJI1ddXrbx3SCqNh4OzY70BCp6dwyAqUAxU\\'})\\n    minDate = pd.to_datetime(\\'today\\')\\n    try:\\n        for role in json.loads(response.text)[\\'results\\'][0][\\'roles\\']:\\n            if role[\\'start_date\\'] and pd.to_datetime(role[\\'start_date\\']) < minDate:\\n                minDate = pd.to_datetime(role[\\'start_date\\'])\\n    except KeyError:\\n        pass\\n    dictServeDate[member] = minDate\\n'"
      ]
     },
     "execution_count": 8,
     "metadata": {},
     "output_type": "execute_result"
    }
   ],
   "source": [
    "\"\"\"\n",
    "import json\n",
    "import requests\n",
    "\n",
    "dictServeDate = {}\n",
    "for member in df['BIOGUIDE_ID'].unique():\n",
    "    url = \"https://api.propublica.org/congress/v1/members/{}.json\".format(member)\n",
    "    response = requests.get(url, headers={'X-API-Key': 'X39vBTJI1ddXrbx3SCqNh4OzY70BCp6dwyAqUAxU'})\n",
    "    minDate = pd.to_datetime('today')\n",
    "    try:\n",
    "        for role in json.loads(response.text)['results'][0]['roles']:\n",
    "            if role['start_date'] and pd.to_datetime(role['start_date']) < minDate:\n",
    "                minDate = pd.to_datetime(role['start_date'])\n",
    "    except KeyError:\n",
    "        pass\n",
    "    dictServeDate[member] = minDate\n",
    "\"\"\""
   ]
  },
  {
   "cell_type": "code",
   "execution_count": 9,
   "metadata": {},
   "outputs": [
    {
     "data": {
      "text/plain": [
       "\"\\ndictServe4 = set()\\nfor member, date in dictServeDate.items():\\n    if (pd.to_datetime('today') - date).days >= 4*365:\\n        dictServe4.add(member)\\n\""
      ]
     },
     "execution_count": 9,
     "metadata": {},
     "output_type": "execute_result"
    }
   ],
   "source": [
    "\"\"\"\n",
    "dictServe4 = set()\n",
    "for member, date in dictServeDate.items():\n",
    "    if (pd.to_datetime('today') - date).days >= 4*365:\n",
    "        dictServe4.add(member)\n",
    "\"\"\""
   ]
  },
  {
   "cell_type": "code",
   "execution_count": 10,
   "metadata": {},
   "outputs": [],
   "source": [
    "#\n",
    "# Question 6\n",
    "#\n",
    "dfTmp = df[['BIOGUIDE_ID', 'YEAR', 'PAYEE']].groupby(['BIOGUIDE_ID', 'YEAR'])['PAYEE'].nunique().reset_index()\n",
    "dfTmp = dfTmp[dfTmp['PAYEE']>=5]\n",
    "slcRep = set(dfTmp[['BIOGUIDE_ID', 'YEAR']].groupby(['BIOGUIDE_ID'], as_index=False).count()[dfTmp[['BIOGUIDE_ID', 'YEAR']].groupby(['BIOGUIDE_ID'], as_index=False).count()['YEAR']>=4]['BIOGUIDE_ID'])\n",
    "df_turnover = df[df['BIOGUIDE_ID'].isin(slcRep)][['BIOGUIDE_ID', 'YEAR', 'PAYEE', 'AMOUNT']].groupby(['BIOGUIDE_ID', 'YEAR', 'PAYEE']).sum().reset_index()[['BIOGUIDE_ID', 'YEAR', 'PAYEE']]"
   ]
  },
  {
   "cell_type": "code",
   "execution_count": 11,
   "metadata": {},
   "outputs": [],
   "source": [
    "df_turnover1 = df_turnover[['BIOGUIDE_ID', 'YEAR', 'PAYEE']].rename(index=str, columns={\"YEAR\": \"NEXT YEAR\"})\n",
    "df_cmb = df_turnover.merge(df_turnover1, on=['BIOGUIDE_ID', 'PAYEE'], how='left')\n",
    "df_cmb = df_cmb[(df_cmb['YEAR']==df_cmb['NEXT YEAR']) | (df_cmb['YEAR']+1==df_cmb['NEXT YEAR'])]\n",
    "df_cmb[\"TURN OVER\"] = df_cmb['YEAR']==df_cmb['NEXT YEAR']"
   ]
  },
  {
   "cell_type": "code",
   "execution_count": 12,
   "metadata": {},
   "outputs": [
    {
     "name": "stdout",
     "output_type": "stream",
     "text": [
      "Question 6: 0.6488385221\n"
     ]
    }
   ],
   "source": [
    "years = range(2011,2017)\n",
    "annualTurnOver = []\n",
    "for year in years:\n",
    "    dfTmp = df_cmb[df_cmb['YEAR']==year-1][['BIOGUIDE_ID', 'TURN OVER']].groupby(['BIOGUIDE_ID'], as_index=False).mean()\n",
    "    annualTurnOver.append(dfTmp['TURN OVER'].mean())\n",
    "print(\"Question 6: {:.10}\".format(np.median(annualTurnOver)))"
   ]
  },
  {
   "cell_type": "code",
   "execution_count": 13,
   "metadata": {},
   "outputs": [
    {
     "name": "stdout",
     "output_type": "stream",
     "text": [
      "Question 7: 0.4830437272\n"
     ]
    }
   ],
   "source": [
    "#\n",
    "# Question 7\n",
    "#\n",
    "\n",
    "import json\n",
    "import requests\n",
    "\n",
    "dictParty = {}\n",
    "for member in df['BIOGUIDE_ID'].unique():\n",
    "    url = \"https://api.propublica.org/congress/v1/members/{}.json\".format(member)\n",
    "    response = requests.get(url, headers={'X-API-Key': 'X39vBTJI1ddXrbx3SCqNh4OzY70BCp6dwyAqUAxU'})\n",
    "    try:\n",
    "        dictParty[member] = json.loads(response.text)['results'][0]['current_party']\n",
    "    except KeyError:\n",
    "        dictParty[member] = 'NA'\n",
    "        \n",
    "top20 = df[(df['START DATE'].dt.year==2016) & (df['BIOGUIDE_ID']!='UNKNOWN')][['BIOGUIDE_ID', 'AMOUNT']].groupby(['BIOGUIDE_ID'], as_index=False).sum().sort_values(by='AMOUNT', ascending=False).iloc[:20][['BIOGUIDE_ID', 'AMOUNT']].values\n",
    "democ, total = 0, 0\n",
    "for member in top20:\n",
    "    if dictParty[member[0]] == 'D':\n",
    "        democ += member[1]\n",
    "    total += member[1]\n",
    "print(\"Question 7: {:.10}\".format(democ/total))"
   ]
  }
 ],
 "metadata": {
  "kernelspec": {
   "display_name": "Python 3",
   "language": "python",
   "name": "python3"
  },
  "language_info": {
   "codemirror_mode": {
    "name": "ipython",
    "version": 3
   },
   "file_extension": ".py",
   "mimetype": "text/x-python",
   "name": "python",
   "nbconvert_exporter": "python",
   "pygments_lexer": "ipython3",
   "version": "3.6.0"
  },
  "toc": {
   "base_numbering": 1,
   "nav_menu": {},
   "number_sections": true,
   "sideBar": true,
   "skip_h1_title": false,
   "title_cell": "Table of Contents",
   "title_sidebar": "Contents",
   "toc_cell": false,
   "toc_position": {},
   "toc_section_display": true,
   "toc_window_display": false
  }
 },
 "nbformat": 4,
 "nbformat_minor": 2
}
